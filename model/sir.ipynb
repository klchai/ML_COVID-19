{
 "cells": [
  {
   "cell_type": "code",
   "execution_count": 127,
   "metadata": {},
   "outputs": [],
   "source": [
    "import numpy as np\n",
    "import pandas as pd\n",
    "from scipy.integrate import odeint\n",
    "from scipy.optimize import curve_fit\n",
    "from scipy.integrate import solve_ivp\n",
    "import matplotlib.pyplot as plt"
   ]
  },
  {
   "cell_type": "markdown",
   "metadata": {},
   "source": [
    "### Loading Data"
   ]
  },
  {
   "cell_type": "code",
   "execution_count": 128,
   "metadata": {},
   "outputs": [
    {
     "data": {
      "text/html": [
       "<div>\n",
       "<style scoped>\n",
       "    .dataframe tbody tr th:only-of-type {\n",
       "        vertical-align: middle;\n",
       "    }\n",
       "\n",
       "    .dataframe tbody tr th {\n",
       "        vertical-align: top;\n",
       "    }\n",
       "\n",
       "    .dataframe thead th {\n",
       "        text-align: right;\n",
       "    }\n",
       "</style>\n",
       "<table border=\"1\" class=\"dataframe\">\n",
       "  <thead>\n",
       "    <tr style=\"text-align: right;\">\n",
       "      <th></th>\n",
       "      <th>dateRep</th>\n",
       "      <th>cases</th>\n",
       "      <th>deaths</th>\n",
       "      <th>susceptible</th>\n",
       "    </tr>\n",
       "  </thead>\n",
       "  <tbody>\n",
       "    <tr>\n",
       "      <th>5624</th>\n",
       "      <td>2020-01-25</td>\n",
       "      <td>3</td>\n",
       "      <td>0</td>\n",
       "      <td>66999997</td>\n",
       "    </tr>\n",
       "    <tr>\n",
       "      <th>5623</th>\n",
       "      <td>2020-01-26</td>\n",
       "      <td>3</td>\n",
       "      <td>0</td>\n",
       "      <td>66999997</td>\n",
       "    </tr>\n",
       "    <tr>\n",
       "      <th>5622</th>\n",
       "      <td>2020-01-27</td>\n",
       "      <td>3</td>\n",
       "      <td>0</td>\n",
       "      <td>66999997</td>\n",
       "    </tr>\n",
       "    <tr>\n",
       "      <th>5621</th>\n",
       "      <td>2020-01-28</td>\n",
       "      <td>3</td>\n",
       "      <td>0</td>\n",
       "      <td>66999997</td>\n",
       "    </tr>\n",
       "    <tr>\n",
       "      <th>5620</th>\n",
       "      <td>2020-01-29</td>\n",
       "      <td>4</td>\n",
       "      <td>0</td>\n",
       "      <td>66999996</td>\n",
       "    </tr>\n",
       "    <tr>\n",
       "      <th>5619</th>\n",
       "      <td>2020-01-30</td>\n",
       "      <td>5</td>\n",
       "      <td>0</td>\n",
       "      <td>66999995</td>\n",
       "    </tr>\n",
       "    <tr>\n",
       "      <th>5618</th>\n",
       "      <td>2020-01-31</td>\n",
       "      <td>6</td>\n",
       "      <td>0</td>\n",
       "      <td>66999994</td>\n",
       "    </tr>\n",
       "    <tr>\n",
       "      <th>5617</th>\n",
       "      <td>2020-02-01</td>\n",
       "      <td>6</td>\n",
       "      <td>0</td>\n",
       "      <td>66999994</td>\n",
       "    </tr>\n",
       "    <tr>\n",
       "      <th>5616</th>\n",
       "      <td>2020-02-02</td>\n",
       "      <td>6</td>\n",
       "      <td>0</td>\n",
       "      <td>66999994</td>\n",
       "    </tr>\n",
       "    <tr>\n",
       "      <th>5615</th>\n",
       "      <td>2020-02-03</td>\n",
       "      <td>6</td>\n",
       "      <td>0</td>\n",
       "      <td>66999994</td>\n",
       "    </tr>\n",
       "  </tbody>\n",
       "</table>\n",
       "</div>"
      ],
      "text/plain": [
       "        dateRep  cases  deaths  susceptible\n",
       "5624 2020-01-25      3       0     66999997\n",
       "5623 2020-01-26      3       0     66999997\n",
       "5622 2020-01-27      3       0     66999997\n",
       "5621 2020-01-28      3       0     66999997\n",
       "5620 2020-01-29      4       0     66999996\n",
       "5619 2020-01-30      5       0     66999995\n",
       "5618 2020-01-31      6       0     66999994\n",
       "5617 2020-02-01      6       0     66999994\n",
       "5616 2020-02-02      6       0     66999994\n",
       "5615 2020-02-03      6       0     66999994"
      ]
     },
     "execution_count": 128,
     "metadata": {},
     "output_type": "execute_result"
    }
   ],
   "source": [
    "N = 67_000_000 # La population \n",
    "\n",
    "df = pd.read_csv('data/covid-19_world.csv',sep=',')\n",
    "df = df[ df[\"countriesAndTerritories\"]==\"France\" ]\n",
    "df.sort_values(\"dateRep\")\n",
    "for col_to_drop in [\"day\",\"month\",\"year\",\"countriesAndTerritories\",\"geoId\",\n",
    "                    \"countryterritoryCode\",\"popData2018\",\"continentExp\"]:\n",
    "\n",
    "    df=df.drop(col_to_drop,1)\n",
    "\n",
    "df[\"dateRep\"] = pd.to_datetime(df[\"dateRep\"],format=\"%d/%m/%Y\")\n",
    "df = df.sort_values(\"dateRep\")\n",
    "df = df[df[\"dateRep\"] > \"2020-01-24\"]\n",
    "df[\"cases\"] = df[\"cases\"].cumsum()\n",
    "df[\"deaths\"] = df[\"deaths\"].cumsum()\n",
    "df[\"susceptible\"] = df.apply(lambda row : N -(row[\"deaths\"]+row[\"cases\"]),axis=1)\n",
    "df.head(10)"
   ]
  },
  {
   "cell_type": "code",
   "execution_count": 129,
   "metadata": {
    "scrolled": false
   },
   "outputs": [
    {
     "data": {
      "image/png": "[encoded data removed]",
      "text/plain": [
       "<Figure size 576x432 with 1 Axes>"
      ]
     },
     "metadata": {
      "needs_background": "light"
     },
     "output_type": "display_data"
    }
   ],
   "source": [
    "ax=df.plot(x=\"dateRep\",y=\"cases\",figsize=(8,6))\n",
    "ax=df.plot(x=\"dateRep\",y=\"deaths\",ax=ax)\n",
    "# ax=df.plot(x=\"dateRep\",y=\"susceptible\",ax=ax)\n",
    "plt.xlabel('Day')\n",
    "plt.show()"
   ]
  },
  {
   "cell_type": "markdown",
   "metadata": {},
   "source": [
    "## SIR Model"
   ]
  },
  {
   "cell_type": "code",
   "execution_count": 133,
   "metadata": {},
   "outputs": [],
   "source": [
    "class SIRModel():\n",
    "    \"\"\"\n",
    "    SIR Model\n",
    "    \"\"\"\n",
    "    def __init__(self, beta=0.1, gamma=0.1):\n",
    "        self.beta_ = beta\n",
    "        self.gamma_ = gamma\n",
    " \n",
    "    def deriv(self, y0, t, N, beta, gamma):\n",
    "        S, I, R = y0\n",
    "        dSdt = -beta * S * I / N\n",
    "        dIdt = beta * S * I / N - gamma * I\n",
    "        dRdt = gamma * I\n",
    "        return dSdt, dIdt, dRdt\n",
    "    \n",
    "    def fit(self, t, N, I):\n",
    "        I0 = I[0]\n",
    "        y_0 = (N-I0, I0, 0)\n",
    "        def f(t, beta, gamma):\n",
    "            y_t = odeint(self.deriv, y_0, t, args=(N, beta, gamma))\n",
    "            S,I,R = y_t.T # infected number\n",
    "            return I\n",
    "        params, pcov = curve_fit(f, t, I)\n",
    "        return params\n",
    "    \n",
    "    def res(self, t, N, I):\n",
    "        b, g =self.fit(t, N, I)\n",
    "        I0 = I[0]\n",
    "        y0 = (N-I0, I0, 0)\n",
    "        ret = odeint(self.deriv, y0, t, args=(N, b, g))\n",
    "        S,I,R=ret.T\n",
    "        return S,I,R\n",
    "    \n",
    "    def plotfit(self, t, I, df):\n",
    "        f, ax = plt.subplots(1,1)\n",
    "        ax.plot(t, I, 'y', alpha=0.7, linewidth=2, label='Infected')\n",
    "        ax.plot(t,df[\"cases\"].to_numpy(),'k', alpha=0.7, lw=2, label='Really infected')\n",
    "        ax.set_xlabel('Time (days)')\n",
    "\n",
    "        ax.yaxis.set_tick_params(length=0)\n",
    "        ax.xaxis.set_tick_params(length=0)\n",
    "        ax.grid(b=True, which='major', c='w', lw=2, ls='-')\n",
    "        legend = ax.legend()\n",
    "        legend.get_frame().set_alpha(0.5)\n",
    "        for spine in ('top', 'right', 'bottom', 'left'):\n",
    "            ax.spines[spine].set_visible(False)\n",
    "        plt.show()\n",
    "        \n",
    "    def plotsir(self, t, S, I, R, df):\n",
    "        f, ax = plt.subplots(1,1,figsize=(8,4))\n",
    "        ax.plot(t, S, 'b', alpha=0.7, linewidth=2, label='Susceptible')\n",
    "        ax.plot(t, I, 'y', alpha=0.7, linewidth=2, label='Infected')\n",
    "        ax.plot(t, R, 'g', alpha=0.7, linewidth=2, label='Recovered')\n",
    "        ax.plot(t,df[\"cases\"].to_numpy(),'k', alpha=0.7, lw=2, label='Really infected')\n",
    "#         ax.plot(t,df[\"susceptible\"].to_numpy(), 'r', alpha=0.7, lw=2, label='Really Susceptible')\n",
    "        ax.plot(t,df[\"deaths\"].to_numpy(), 'c', alpha=0.7, lw=2, label='Really dead')\n",
    "        ax.set_xlabel('Time (days)')\n",
    "\n",
    "        ax.yaxis.set_tick_params(length=0)\n",
    "        ax.xaxis.set_tick_params(length=0)\n",
    "        ax.grid(b=True, which='major', c='w', lw=2, ls='-')\n",
    "        legend = ax.legend()\n",
    "        legend.get_frame().set_alpha(0.5)\n",
    "        for spine in ('top', 'right', 'bottom', 'left'):\n",
    "          ax.spines[spine].set_visible(False)\n",
    "        plt.show()"
   ]
  },
  {
   "cell_type": "code",
   "execution_count": 134,
   "metadata": {},
   "outputs": [
    {
     "name": "stderr",
     "output_type": "stream",
     "text": [
      "/home/klchai/.local/lib/python3.7/site-packages/ipykernel_launcher.py:11: RuntimeWarning: overflow encountered in double_scalars\n",
      "  # This is added back by InteractiveShellApp.init_path()\n",
      "/home/klchai/.local/lib/python3.7/site-packages/ipykernel_launcher.py:12: RuntimeWarning: overflow encountered in double_scalars\n",
      "  if sys.path[0] == '':\n",
      "/home/klchai/.local/lib/python3.7/site-packages/ipykernel_launcher.py:13: RuntimeWarning: overflow encountered in double_scalars\n",
      "  del sys.path[0]\n",
      "/home/klchai/.local/lib/python3.7/site-packages/ipykernel_launcher.py:12: RuntimeWarning: invalid value encountered in double_scalars\n",
      "  if sys.path[0] == '':\n"
     ]
    },
    {
     "name": "stdout",
     "output_type": "stream",
     "text": [
      "params: [1.90366878 1.77454346]\n"
     ]
    },
    {
     "data": {
      "image/png": "[encoded data removed]",
      "text/plain": [
       "<Figure size 432x288 with 1 Axes>"
      ]
     },
     "metadata": {
      "needs_background": "light"
     },
     "output_type": "display_data"
    }
   ],
   "source": [
    "t = range(df.shape[0])\n",
    "N = 67_000_000\n",
    "I = df[\"cases\"].to_numpy()\n",
    "\n",
    "sir = SIRModel()\n",
    "params = sir.fit(t, N, I)\n",
    "print(\"params:\",params)\n",
    "S, I, R = sir.res(t,N,I)\n",
    "sir.plotfit(t, I, df)"
   ]
  },
  {
   "cell_type": "code",
   "execution_count": 135,
   "metadata": {},
   "outputs": [
    {
     "data": {
      "image/png": "[encoded data removed]",
      "text/plain": [
       "<Figure size 576x288 with 1 Axes>"
      ]
     },
     "metadata": {
      "needs_background": "light"
     },
     "output_type": "display_data"
    }
   ],
   "source": [
    "sir.plotsir(t, S, I, R,df)"
   ]
  },
  {
   "cell_type": "markdown",
   "metadata": {},
   "source": [
    "## SEIR Model"
   ]
  },
  {
   "cell_type": "code",
   "execution_count": 136,
   "metadata": {},
   "outputs": [],
   "source": [
    "def deriv_SEIR(y, t, N, beta, gamma, delta):\n",
    "    S, E, I, R = y\n",
    "    dSdt = -beta * S * I / N\n",
    "    dEdt = beta * S * I / N - delta * E\n",
    "    dIdt = delta * E - gamma * I\n",
    "    dRdt = gamma * I\n",
    "    return dSdt, dEdt, dIdt, dRdt"
   ]
  },
  {
   "cell_type": "code",
   "execution_count": 137,
   "metadata": {},
   "outputs": [],
   "source": [
    "N = 67_000_000\n",
    "D = 10.0 # infections lasts 10 days\n",
    "gamma = 1.0 / D\n",
    "delta = 1.0 / 3.0  # incubation period of three days\n",
    "R_0 = 5.0\n",
    "beta = R_0 * gamma\n",
    "S0, E0, I0, R0 = N-3, 3, 0, 0  # initial conditions: one exposed, rest susceptible\n",
    "t = np.arange(0,100)\n",
    "y0 = S0, E0, I0, R0"
   ]
  },
  {
   "cell_type": "code",
   "execution_count": 138,
   "metadata": {},
   "outputs": [],
   "source": [
    "# Integrate the SEIR equations over the time grid, t.\n",
    "ret = odeint(deriv_SEIR, y0, t, args=(N, beta, gamma, delta))\n",
    "S, E, I, R = ret.T"
   ]
  },
  {
   "cell_type": "code",
   "execution_count": 139,
   "metadata": {},
   "outputs": [
    {
     "name": "stdout",
     "output_type": "stream",
     "text": [
      "[ 1.06738008  0.94481629 20.62422673]\n"
     ]
    }
   ],
   "source": [
    "def fit(t, bt, gma, delta):\n",
    "    res = odeint(deriv_SEIR, y0, t, args=(N, bt, gma, delta))\n",
    "    S, E, I, R = res.T\n",
    "    return I\n",
    "\n",
    "real = df[\"cases\"].to_numpy()[:-10]\n",
    "params, pcov = curve_fit(fit, t, real)\n",
    "print(params)\n",
    "\n",
    "b,g,l=params\n",
    "ret_SEIR = odeint(deriv_SEIR, y0, t, args=(N, b, g, l))\n",
    "S_n, E_n, I_n, R_n = ret_SEIR.T"
   ]
  },
  {
   "cell_type": "code",
   "execution_count": 140,
   "metadata": {},
   "outputs": [],
   "source": [
    "def plotseird(t, S, E, I, R, D=None, L=None, R0=None, Alpha=None, CFR=None):\n",
    "  f, ax = plt.subplots(1,1,figsize=(10,4))\n",
    "#   ax.plot(t, S, 'b', alpha=0.7, linewidth=2, label='Susceptible')\n",
    "#   ax.plot(t, E, 'y', alpha=0.7, linewidth=2, label='Exposed')\n",
    "  ax.plot(t, I, 'r', alpha=0.7, linewidth=2, label='Infected')\n",
    "  ax.plot(t,df[\"cases\"].to_numpy()[:-10],'k', alpha=0.7, lw=2, label='Really infected')\n",
    "#   ax.plot(t, R, 'g', alpha=0.7, linewidth=2, label='Recovered')\n",
    "  if D is not None:\n",
    "    ax.plot(t, D, 'k', alpha=0.7, linewidth=2, label='Dead')\n",
    "    ax.plot(t, S+E+I+R+D, 'c--', alpha=0.7, linewidth=2, label='Total')\n",
    "  else:\n",
    "    ax.plot(t, S+E+I+R, 'c--', alpha=0.7, linewidth=2, label='Total')\n",
    "\n",
    "  ax.set_xlabel('Time (days)')\n",
    "\n",
    "  ax.yaxis.set_tick_params(length=0)\n",
    "  ax.xaxis.set_tick_params(length=0)\n",
    "  ax.grid(b=True, which='major', c='w', lw=2, ls='-')\n",
    "  legend = ax.legend(borderpad=2.0)\n",
    "  legend.get_frame().set_alpha(0.5)\n",
    "  for spine in ('top', 'right', 'bottom', 'left'):\n",
    "      ax.spines[spine].set_visible(False)\n",
    "  if L is not None:\n",
    "      plt.title(\"Lockdown after {} days\".format(L))\n",
    "  plt.show();\n",
    "\n",
    "  if R0 is not None or CFR is not None:\n",
    "    f = plt.figure(figsize=(12,4))\n",
    "  \n",
    "  if R0 is not None:\n",
    "    # sp1\n",
    "    ax1 = f.add_subplot(121)\n",
    "    ax1.plot(t, R0, 'b--', alpha=0.7, linewidth=2, label='R_0')\n",
    "\n",
    "    ax1.set_xlabel('Time (days)')\n",
    "    ax1.title.set_text('R_0 over time')\n",
    "    # ax.set_ylabel('Number (1000s)')\n",
    "    # ax.set_ylim(0,1.2)\n",
    "    ax1.yaxis.set_tick_params(length=0)\n",
    "    ax1.xaxis.set_tick_params(length=0)\n",
    "    ax1.grid(b=True, which='major', c='w', lw=2, ls='-')\n",
    "    legend = ax1.legend()\n",
    "    legend.get_frame().set_alpha(0.5)\n",
    "    for spine in ('top', 'right', 'bottom', 'left'):\n",
    "      ax.spines[spine].set_visible(False)\n",
    "\n",
    "  if Alpha is not None:\n",
    "    # sp2\n",
    "    ax2 = f.add_subplot(122)\n",
    "    ax2.plot(t, Alpha, 'r--', alpha=0.7, linewidth=2, label='alpha')\n",
    "\n",
    "    ax2.set_xlabel('Time (days)')\n",
    "    ax2.title.set_text('fatality rate over time')\n",
    "    # ax.set_ylabel('Number (1000s)')\n",
    "    # ax.set_ylim(0,1.2)\n",
    "    ax2.yaxis.set_tick_params(length=0)\n",
    "    ax2.xaxis.set_tick_params(length=0)\n",
    "    ax2.grid(b=True, which='major', c='w', lw=2, ls='-')\n",
    "    legend = ax2.legend()\n",
    "    legend.get_frame().set_alpha(0.5)\n",
    "    for spine in ('top', 'right', 'bottom', 'left'):\n",
    "      ax.spines[spine].set_visible(False)\n",
    "\n",
    "    plt.show();"
   ]
  },
  {
   "cell_type": "code",
   "execution_count": 141,
   "metadata": {},
   "outputs": [
    {
     "data": {
      "image/png": "[encoded data removed]",
      "text/plain": [
       "<Figure size 720x288 with 1 Axes>"
      ]
     },
     "metadata": {
      "needs_background": "light"
     },
     "output_type": "display_data"
    }
   ],
   "source": [
    "plotseird(t, S, E, I, R)"
   ]
  },
  {
   "cell_type": "code",
   "execution_count": 142,
   "metadata": {},
   "outputs": [
    {
     "data": {
      "image/png": "[encoded data removed]",
      "text/plain": [
       "<Figure size 720x288 with 1 Axes>"
      ]
     },
     "metadata": {
      "needs_background": "light"
     },
     "output_type": "display_data"
    }
   ],
   "source": [
    "plotseird(t, S_n, E_n, I_n, R_n)"
   ]
  },
  {
   "cell_type": "code",
   "execution_count": null,
   "metadata": {},
   "outputs": [],
   "source": []
  }
 ],
 "metadata": {
  "kernelspec": {
   "display_name": "Python 3",
   "language": "python",
   "name": "python3"
  },
  "language_info": {
   "codemirror_mode": {
    "name": "ipython",
    "version": 3
   },
   "file_extension": ".py",
   "mimetype": "text/x-python",
   "name": "python",
   "nbconvert_exporter": "python",
   "pygments_lexer": "ipython3",
   "version": "3.7.5"
  }
 },
 "nbformat": 4,
 "nbformat_minor": 2
}
